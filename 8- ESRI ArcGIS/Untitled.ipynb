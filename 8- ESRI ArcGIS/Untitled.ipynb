{
 "cells": [
  {
   "cell_type": "code",
   "execution_count": 56,
   "metadata": {},
   "outputs": [],
   "source": [
    "from arcgis.gis import GIS\n",
    "gis = GIS()"
   ]
  },
  {
   "cell_type": "code",
   "execution_count": 57,
   "metadata": {},
   "outputs": [
    {
     "data": {
      "application/vnd.jupyter.widget-view+json": {
       "model_id": "90625263e715426e9bbbc7b6a10bba15",
       "version_major": 2,
       "version_minor": 0
      },
      "text/plain": [
       "MapView(layout=Layout(height='400px', width='100%'))"
      ]
     },
     "metadata": {},
     "output_type": "display_data"
    },
    {
     "data": {
      "text/html": [
       "<div class=\"map-static-img-preview-688c888f-1e02-4ec3-b5e4-c1ce2d617047\"><img src=\"\"></img></div>"
      ],
      "text/plain": [
       "<IPython.core.display.HTML object>"
      ]
     },
     "metadata": {},
     "output_type": "display_data"
    },
    {
     "data": {
      "text/html": [
       "<div class=\"map-html-embed-preview-688c888f-1e02-4ec3-b5e4-c1ce2d617047\"></div>"
      ],
      "text/plain": [
       "<IPython.core.display.HTML object>"
      ]
     },
     "metadata": {},
     "output_type": "display_data"
    }
   ],
   "source": [
    "map = gis.map('Fredericton')\n",
    "map"
   ]
  },
  {
   "cell_type": "code",
   "execution_count": 69,
   "metadata": {},
   "outputs": [],
   "source": [
    "map.zoom = 14"
   ]
  },
  {
   "cell_type": "code",
   "execution_count": 70,
   "metadata": {},
   "outputs": [
    {
     "data": {
      "text/plain": [
       "['dark-gray',\n",
       " 'dark-gray-vector',\n",
       " 'gray',\n",
       " 'gray-vector',\n",
       " 'hybrid',\n",
       " 'national-geographic',\n",
       " 'oceans',\n",
       " 'osm',\n",
       " 'satellite',\n",
       " 'streets',\n",
       " 'streets-navigation-vector',\n",
       " 'streets-night-vector',\n",
       " 'streets-relief-vector',\n",
       " 'streets-vector',\n",
       " 'terrain',\n",
       " 'topo',\n",
       " 'topo-vector']"
      ]
     },
     "execution_count": 70,
     "metadata": {},
     "output_type": "execute_result"
    }
   ],
   "source": [
    "map.basemaps"
   ]
  },
  {
   "cell_type": "code",
   "execution_count": 71,
   "metadata": {},
   "outputs": [],
   "source": [
    "map.basemap  = 'streets-night-vector'"
   ]
  },
  {
   "cell_type": "code",
   "execution_count": 72,
   "metadata": {},
   "outputs": [
    {
     "data": {
      "text/plain": [
       "[<Item title:\"Fredericton Downtown Businesses and Restaurants\" type:Feature Layer Collection owner:davidfraser>,\n",
       " <Item title:\"Frederiction_restaurants_google\" type:Feature Layer Collection owner:ride4adventure2>]"
      ]
     },
     "execution_count": 72,
     "metadata": {},
     "output_type": "execute_result"
    }
   ],
   "source": [
    "rest_con = gis.content.search(\"Fredericton Restaurants\", item_type= \"Feature Layer\", max_items =5)\n",
    "rest_con"
   ]
  },
  {
   "cell_type": "code",
   "execution_count": 73,
   "metadata": {},
   "outputs": [
    {
     "data": {
      "text/html": [
       "<div class=\"item_container\" style=\"height: auto; overflow: hidden; border: 1px solid #cfcfcf; border-radius: 2px; background: #f6fafa; line-height: 1.21429em; padding: 10px;\">\n",
       "                    <div class=\"item_left\" style=\"width: 210px; float: left;\">\n",
       "                       <a href='https://www.arcgis.com/home/item.html?id=9d1fd126b7d446eeb9d699901accab5a' target='_blank'>\n",
       "                        <img src='https://www.arcgis.com/sharing/rest//content/items/9d1fd126b7d446eeb9d699901accab5a/info/thumbnail/ago_downloaded.png' class=\"itemThumbnail\">\n",
       "                       </a>\n",
       "                    </div>\n",
       "\n",
       "                    <div class=\"item_right\"     style=\"float: none; width: auto; overflow: hidden;\">\n",
       "                        <a href='https://www.arcgis.com/home/item.html?id=9d1fd126b7d446eeb9d699901accab5a' target='_blank'><b>Fredericton Downtown Businesses and Restaurants</b>\n",
       "                        </a>\n",
       "                        <br/><img src='https://www.arcgis.com/home/js/jsapi/esri/css/images/item_type_icons/featureshosted16.png' style=\"vertical-align:middle;\">Feature Layer Collection by davidfraser\n",
       "                        <br/>Last Modified: November 29, 2020\n",
       "                        <br/>0 comments, 243 views\n",
       "                    </div>\n",
       "                </div>\n",
       "                "
      ],
      "text/plain": [
       "<Item title:\"Fredericton Downtown Businesses and Restaurants\" type:Feature Layer Collection owner:davidfraser>"
      ]
     },
     "metadata": {},
     "output_type": "display_data"
    },
    {
     "data": {
      "text/html": [
       "<div class=\"item_container\" style=\"height: auto; overflow: hidden; border: 1px solid #cfcfcf; border-radius: 2px; background: #f6fafa; line-height: 1.21429em; padding: 10px;\">\n",
       "                    <div class=\"item_left\" style=\"width: 210px; float: left;\">\n",
       "                       <a href='https://www.arcgis.com/home/item.html?id=dd9fb5cacf6b4aa99dd9108a0d1fc57d' target='_blank'>\n",
       "                        <img src='https://www.arcgis.com/sharing/rest//content/items/dd9fb5cacf6b4aa99dd9108a0d1fc57d/info/thumbnail/thumbnail.png' class=\"itemThumbnail\">\n",
       "                       </a>\n",
       "                    </div>\n",
       "\n",
       "                    <div class=\"item_right\"     style=\"float: none; width: auto; overflow: hidden;\">\n",
       "                        <a href='https://www.arcgis.com/home/item.html?id=dd9fb5cacf6b4aa99dd9108a0d1fc57d' target='_blank'><b>Frederiction_restaurants_google</b>\n",
       "                        </a>\n",
       "                        <br/>Restaurants,cafes, coffe shops in city of Fredericton<img src='https://www.arcgis.com/home/js/jsapi/esri/css/images/item_type_icons/featureshosted16.png' style=\"vertical-align:middle;\">Feature Layer Collection by ride4adventure2\n",
       "                        <br/>Last Modified: October 12, 2017\n",
       "                        <br/>0 comments, 237 views\n",
       "                    </div>\n",
       "                </div>\n",
       "                "
      ],
      "text/plain": [
       "<Item title:\"Frederiction_restaurants_google\" type:Feature Layer Collection owner:ride4adventure2>"
      ]
     },
     "metadata": {},
     "output_type": "display_data"
    }
   ],
   "source": [
    "from IPython.display import display\n",
    "for item in rest_con:\n",
    "    display(item)"
   ]
  },
  {
   "cell_type": "code",
   "execution_count": 74,
   "metadata": {},
   "outputs": [],
   "source": [
    "rest = rest_con[0]\n",
    "map.add_layer(rest)"
   ]
  },
  {
   "cell_type": "code",
   "execution_count": 75,
   "metadata": {},
   "outputs": [],
   "source": [
    "from arcgis.geocoding import geocode"
   ]
  },
  {
   "cell_type": "code",
   "execution_count": 102,
   "metadata": {
    "scrolled": true
   },
   "outputs": [
    {
     "data": {
      "application/vnd.jupyter.widget-view+json": {
       "model_id": "40d868524bfd4cd786da69559b2a618d",
       "version_major": 2,
       "version_minor": 0
      },
      "text/plain": [
       "MapView(layout=Layout(height='400px', width='100%'))"
      ]
     },
     "metadata": {},
     "output_type": "display_data"
    },
    {
     "data": {
      "text/html": [
       "<div class=\"map-static-img-preview-23d6283f-a46a-4bb5-9a51-ed23ddf8b57e\"><img src=\"\"></img></div>"
      ],
      "text/plain": [
       "<IPython.core.display.HTML object>"
      ]
     },
     "metadata": {},
     "output_type": "display_data"
    },
    {
     "data": {
      "text/html": [
       "<div class=\"map-html-embed-preview-23d6283f-a46a-4bb5-9a51-ed23ddf8b57e\"></div>"
      ],
      "text/plain": [
       "<IPython.core.display.HTML object>"
      ]
     },
     "metadata": {},
     "output_type": "display_data"
    }
   ],
   "source": [
    "downtown = geocode(\"king, Fredericton, NB\")[0]\n",
    "map1 = gis.map(downtown)\n",
    "map1"
   ]
  },
  {
   "cell_type": "code",
   "execution_count": 107,
   "metadata": {},
   "outputs": [
    {
     "ename": "NameError",
     "evalue": "name 'restaurant' is not defined",
     "output_type": "error",
     "traceback": [
      "\u001b[1;31m---------------------------------------------------------------------------\u001b[0m",
      "\u001b[1;31mNameError\u001b[0m                                 Traceback (most recent call last)",
      "\u001b[1;32m<ipython-input-107-31151af60ea3>\u001b[0m in \u001b[0;36m<module>\u001b[1;34m\u001b[0m\n\u001b[0;32m      6\u001b[0m         \u001b[1;34m\"content\"\u001b[0m \u001b[1;33m:\u001b[0m \u001b[1;34m\"Phone:\"\u001b[0m \u001b[1;33m+\u001b[0m \u001b[0mrestaurant\u001b[0m\u001b[1;33m[\u001b[0m\u001b[1;34m'attribute'\u001b[0m\u001b[1;33m]\u001b[0m\u001b[1;33m[\u001b[0m\u001b[1;34m'Phone'\u001b[0m\u001b[1;33m]\u001b[0m \u001b[1;33m+\u001b[0m \u001b[1;34m\"<br>\"\u001b[0m \u001b[1;34m\"Address:\"\u001b[0m \u001b[1;33m+\u001b[0m \u001b[0mrestaurant\u001b[0m\u001b[1;33m[\u001b[0m\u001b[1;34m'attributes'\u001b[0m\u001b[1;33m]\u001b[0m\u001b[1;33m[\u001b[0m\u001b[1;34m'place_addr'\u001b[0m\u001b[1;33m]\u001b[0m\u001b[1;33m\u001b[0m\u001b[1;33m\u001b[0m\u001b[0m\n\u001b[0;32m      7\u001b[0m     }\n\u001b[1;32m----> 8\u001b[1;33m \u001b[0mmap1\u001b[0m\u001b[1;33m.\u001b[0m\u001b[0mdraw\u001b[0m \u001b[1;33m=\u001b[0m\u001b[1;33m(\u001b[0m\u001b[0mrestaurant\u001b[0m\u001b[1;33m[\u001b[0m\u001b[1;34m'location'\u001b[0m\u001b[1;33m]\u001b[0m\u001b[1;33m,\u001b[0m \u001b[0mpopup\u001b[0m\u001b[1;33m)\u001b[0m\u001b[1;33m\u001b[0m\u001b[1;33m\u001b[0m\u001b[0m\n\u001b[0m",
      "\u001b[1;31mNameError\u001b[0m: name 'restaurant' is not defined"
     ]
    }
   ],
   "source": [
    "restaurants = geocode(None, downtown['extent'], category=\"Mexican Food\", max_locations=100)\n",
    "\n",
    "for restaurant in restaurants:\n",
    "    popup = {\n",
    "        \"title\" : restaurant['attributes']['PlaceName'],\n",
    "        \"content\" : \"Phone:\" + restaurant['attribute']['Phone'] + \"<br>\" \"Address:\" + restaurant['attributes']['place_addr']\n",
    "    }\n",
    "map1.draw =(restaurant['location'], popup)"
   ]
  },
  {
   "cell_type": "code",
   "execution_count": null,
   "metadata": {},
   "outputs": [],
   "source": []
  },
  {
   "cell_type": "code",
   "execution_count": null,
   "metadata": {},
   "outputs": [],
   "source": []
  },
  {
   "cell_type": "code",
   "execution_count": null,
   "metadata": {},
   "outputs": [],
   "source": [
    "https://www.youtube.com/watch?v=oPW69qAvUoo\n",
    "    "
   ]
  }
 ],
 "metadata": {
  "kernelspec": {
   "display_name": "Python 3",
   "language": "python",
   "name": "python3"
  },
  "language_info": {
   "codemirror_mode": {
    "name": "ipython",
    "version": 3
   },
   "file_extension": ".py",
   "mimetype": "text/x-python",
   "name": "python",
   "nbconvert_exporter": "python",
   "pygments_lexer": "ipython3",
   "version": "3.7.10"
  }
 },
 "nbformat": 4,
 "nbformat_minor": 4
}
