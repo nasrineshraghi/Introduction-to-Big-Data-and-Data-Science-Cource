{
 "cells": [
  {
   "cell_type": "code",
   "execution_count": 1,
   "metadata": {},
   "outputs": [],
   "source": [
    "from arcgis.gis import GIS"
   ]
  },
  {
   "cell_type": "code",
   "execution_count": 2,
   "metadata": {},
   "outputs": [],
   "source": [
    "mygis = GIS()\n"
   ]
  },
  {
   "cell_type": "code",
   "execution_count": 9,
   "metadata": {
    "scrolled": true
   },
   "outputs": [
    {
     "data": {
      "application/vnd.jupyter.widget-view+json": {
       "model_id": "ece11e6b3c1543b4a65dfd97b81aa6e6",
       "version_major": 2,
       "version_minor": 0
      },
      "text/plain": [
       "MapView(layout=Layout(height='400px', width='100%'))"
      ]
     },
     "metadata": {},
     "output_type": "display_data"
    },
    {
     "data": {
      "text/html": [
       "<div class=\"map-static-img-preview-5cc1e38b-6446-49ee-a838-cf89a1594a2c\"><img src=\"\"></img></div>"
      ],
      "text/plain": [
       "<IPython.core.display.HTML object>"
      ]
     },
     "metadata": {},
     "output_type": "display_data"
    },
    {
     "data": {
      "text/html": [
       "<div class=\"map-html-embed-preview-5cc1e38b-6446-49ee-a838-cf89a1594a2c\"></div>"
      ],
      "text/plain": [
       "<IPython.core.display.HTML object>"
      ]
     },
     "metadata": {},
     "output_type": "display_data"
    }
   ],
   "source": [
    "myMap = mygis.map(\"Fredericton\", 12)\n",
    "myMap"
   ]
  },
  {
   "cell_type": "code",
   "execution_count": 22,
   "metadata": {
    "scrolled": true
   },
   "outputs": [
    {
     "data": {
      "application/vnd.jupyter.widget-view+json": {
       "model_id": "fa5ad66087ee4838a2cc0d200f20ba5b",
       "version_major": 2,
       "version_minor": 0
      },
      "text/plain": [
       "MapView(layout=Layout(height='400px', width='100%'))"
      ]
     },
     "metadata": {},
     "output_type": "display_data"
    },
    {
     "data": {
      "text/html": [
       "<div class=\"map-static-img-preview-6eda769c-ae0e-47db-8ae6-0982a838d3d5\"><img src=\"\"></img></div>"
      ],
      "text/plain": [
       "<IPython.core.display.HTML object>"
      ]
     },
     "metadata": {},
     "output_type": "display_data"
    },
    {
     "data": {
      "text/html": [
       "<div class=\"map-html-embed-preview-6eda769c-ae0e-47db-8ae6-0982a838d3d5\"></div>"
      ],
      "text/plain": [
       "<IPython.core.display.HTML object>"
      ]
     },
     "metadata": {},
     "output_type": "display_data"
    }
   ],
   "source": [
    "myMap = mygis.map(\"Fredericton\", 12)\n",
    "myMap.basemap = 'dark-gray-vector'\n",
    "myMap"
   ]
  },
  {
   "cell_type": "code",
   "execution_count": 27,
   "metadata": {},
   "outputs": [
    {
     "data": {
      "application/vnd.jupyter.widget-view+json": {
       "model_id": "3d6c54e841cc441596b0c44b2c79d7d0",
       "version_major": 2,
       "version_minor": 0
      },
      "text/plain": [
       "MapView(layout=Layout(height='400px', width='100%'))"
      ]
     },
     "metadata": {},
     "output_type": "display_data"
    },
    {
     "data": {
      "text/html": [
       "<div class=\"map-static-img-preview-95ac179a-0527-4372-8ceb-59569f2ff173\"><img src=\"\"></img></div>"
      ],
      "text/plain": [
       "<IPython.core.display.HTML object>"
      ]
     },
     "metadata": {},
     "output_type": "display_data"
    },
    {
     "data": {
      "text/html": [
       "<div class=\"map-html-embed-preview-95ac179a-0527-4372-8ceb-59569f2ff173\"></div>"
      ],
      "text/plain": [
       "<IPython.core.display.HTML object>"
      ]
     },
     "metadata": {},
     "output_type": "display_data"
    }
   ],
   "source": [
    "myMap = mygis.map(\"Venezuela\", 4)\n",
    "myMap.basemap = 'dark-gray-vector'\n",
    "myMap"
   ]
  },
  {
   "cell_type": "code",
   "execution_count": 28,
   "metadata": {},
   "outputs": [
    {
     "data": {
      "text/html": [
       "<div class=\"item_container\" style=\"height: auto; overflow: hidden; border: 1px solid #cfcfcf; border-radius: 2px; background: #f6fafa; line-height: 1.21429em; padding: 10px;\">\n",
       "                    <div class=\"item_left\" style=\"width: 210px; float: left;\">\n",
       "                       <a href='https://www.arcgis.com/home/item.html?id=b8f4033069f141729ffb298b7418b653' target='_blank'>\n",
       "                        <img src='data:image/png;base64,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' width='200' height='133' class=\"itemThumbnail\">\n",
       "                       </a>\n",
       "                    </div>\n",
       "\n",
       "                    <div class=\"item_right\"     style=\"float: none; width: auto; overflow: hidden;\">\n",
       "                        <a href='https://www.arcgis.com/home/item.html?id=b8f4033069f141729ffb298b7418b653' target='_blank'><b>Satellite (MODIS) Thermal Hotspots and Fire Activity</b>\n",
       "                        </a>\n",
       "                        <br/>Thermal activity detected by the MODIS sensors on the NASA Aqua and Terra satellites during the last 48 hours.<img src='https://www.arcgis.com/home/js/jsapi/esri/css/images/item_type_icons/featureshosted16.png' style=\"vertical-align:middle;\">Feature Layer Collection by esri_livefeeds2\n",
       "                        <br/>Last Modified: April 14, 2022\n",
       "                        <br/>28 comments, 59,094,916 views\n",
       "                    </div>\n",
       "                </div>\n",
       "                "
      ],
      "text/plain": [
       "<Item title:\"Satellite (MODIS) Thermal Hotspots and Fire Activity\" type:Feature Layer Collection owner:esri_livefeeds2>"
      ]
     },
     "execution_count": 28,
     "metadata": {},
     "output_type": "execute_result"
    }
   ],
   "source": [
    "search_fire = mygis.content.search('title:MODIS fire type:Feature Layer')\n",
    "search_fire[0]\n",
    "# search_fire[0].id"
   ]
  },
  {
   "cell_type": "code",
   "execution_count": 29,
   "metadata": {},
   "outputs": [
    {
     "data": {
      "application/vnd.jupyter.widget-view+json": {
       "model_id": "3d6c54e841cc441596b0c44b2c79d7d0",
       "version_major": 2,
       "version_minor": 0
      },
      "text/plain": [
       "MapView(jupyter_target='notebook', layout=Layout(height='400px', width='100%'), ready=True)"
      ]
     },
     "metadata": {},
     "output_type": "display_data"
    },
    {
     "data": {
      "text/html": [
       "<div class=\"map-static-img-preview-95ac179a-0527-4372-8ceb-59569f2ff173\"><img src=\"\"></img></div>"
      ],
      "text/plain": [
       "<IPython.core.display.HTML object>"
      ]
     },
     "metadata": {},
     "output_type": "display_data"
    },
    {
     "data": {
      "text/html": [
       "<div class=\"map-html-embed-preview-95ac179a-0527-4372-8ceb-59569f2ff173\"></div>"
      ],
      "text/plain": [
       "<IPython.core.display.HTML object>"
      ]
     },
     "metadata": {},
     "output_type": "display_data"
    }
   ],
   "source": [
    "fire_layer = mygis.content.get(search_fire[0].id)\n",
    "myMap.add_layer(fire_layer)\n",
    "myMap"
   ]
  },
  {
   "cell_type": "code",
   "execution_count": null,
   "metadata": {},
   "outputs": [],
   "source": []
  },
  {
   "cell_type": "code",
   "execution_count": null,
   "metadata": {},
   "outputs": [],
   "source": []
  }
 ],
 "metadata": {
  "kernelspec": {
   "display_name": "Python 3",
   "language": "python",
   "name": "python3"
  },
  "language_info": {
   "codemirror_mode": {
    "name": "ipython",
    "version": 3
   },
   "file_extension": ".py",
   "mimetype": "text/x-python",
   "name": "python",
   "nbconvert_exporter": "python",
   "pygments_lexer": "ipython3",
   "version": "3.7.10"
  }
 },
 "nbformat": 4,
 "nbformat_minor": 4
}
