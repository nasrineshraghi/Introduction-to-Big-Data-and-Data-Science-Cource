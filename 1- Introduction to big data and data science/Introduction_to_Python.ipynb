{
  "nbformat": 4,
  "nbformat_minor": 0,
  "metadata": {
    "colab": {
      "name": "Introduction to Python.ipynb",
      "provenance": []
    },
    "kernelspec": {
      "name": "python3",
      "display_name": "Python 3"
    },
    "language_info": {
      "name": "python"
    }
  },
  "cells": [
    {
      "cell_type": "markdown",
      "source": [
        "# **Introduction to Python Programming Language**"
      ],
      "metadata": {
        "id": "rdTeVUPnFP_k"
      }
    },
    {
      "cell_type": "markdown",
      "source": [
        "A quick introduction to Python syntax, variable assignment, and numbers\n",
        "\n",
        "\n",
        "\n",
        "Just for fun, try reading over the code below and predicting what it's going to do when run. (If you have no idea, that's fine!)\n",
        "\n",
        "\n",
        "\n",
        "Python is a high-level, dynamically programming language. Python code is often said to be almost like **pseudocode**, since it allows you to express very powerful ideas in very few lines of code while being very readable. \n",
        "\n",
        "```\n",
        "Hint: to run a cell:\n",
        "\n",
        "Shift+Enter or Ctrl+Enter -> to run\n",
        "\n",
        "```\n",
        "\n",
        "\n",
        "\n",
        "\n",
        "There are currently two different supported versions of Python, 2.7 and 3.7. Somewhat confusingly, Python 3.0 introduced many backwards-incompatible changes to the language, so code written for 2.7 may not work under 3.7 and vice versa. For this laboratory all code will use Python 3.7.\n",
        "\n"
      ],
      "metadata": {
        "id": "1pUdXMVeF5sY"
      }
    },
    {
      "cell_type": "code",
      "source": [
        "!python --version"
      ],
      "metadata": {
        "id": "GknDqCHHxSFy",
        "colab": {
          "base_uri": "https://localhost:8080/"
        },
        "outputId": "7af22470-3f27-4bfb-ee3d-e32509f5a0a9"
      },
      "execution_count": null,
      "outputs": [
        {
          "output_type": "stream",
          "name": "stdout",
          "text": [
            "Python 3.7.12\n"
          ]
        }
      ]
    },
    {
      "cell_type": "markdown",
      "source": [
        "# **Indentation**\n",
        "Python uses indentation to indicate parts of the code that needs to be executed together. Both tabs and spaces \n",
        "\n",
        "Donot mix tab indentation with space indentation.\n",
        "\n"
      ],
      "metadata": {
        "id": "XaGmcJJ04jzi"
      }
    },
    {
      "cell_type": "code",
      "source": [
        "a = 1\n",
        "if a == 1:\n",
        "    # Indented ... and notice how Jupyter Notebook/ or colab/ or any python IDE automatically indented for you\n",
        "    print(\"a is 1\")"
      ],
      "metadata": {
        "id": "WK9KXCb036zD"
      },
      "execution_count": null,
      "outputs": []
    },
    {
      "cell_type": "markdown",
      "source": [
        "# **Variables and Types**\n",
        "Python is not \"statically-typed\". This means you do not have to declare all your variables before you can use them. You can create new variables whenever you want. \n",
        "\n",
        "Lets go through the core types of variables:"
      ],
      "metadata": {
        "id": "jLyesbj-3li7"
      }
    },
    {
      "cell_type": "markdown",
      "source": [
        "\n",
        "```\n",
        "**Syntax**\n",
        "\n",
        "\n",
        "*   To assign a variable with a specific value, use `=`\n",
        "\n",
        "      *  A variable name must start with a letter or the underscore character.\n",
        "      *  A variable name cannot start with a number.\n",
        "      *  A variable name can only contain alpha-numeric characters and underscores (A-z, 0-9, and _ ).\n",
        "      *  Variable names are case-sensitive (name, Name and NAME are three different variables).\n",
        "      *  The reserved words(keywords) cannot be used naming the variable.\n",
        "\n",
        "\n",
        "*   To test whether a variable has a specific value, use the boolean operators:\n",
        "        equal: `==`\n",
        "        not equal: `!=`\n",
        "        greater-than: `>`\n",
        "        less-than:\n",
        "\n",
        "\n",
        "*   comments: You can also add helpful comments to your code with the `#` symbol. Any line starting with a `#` is not executed. \n",
        "```\n",
        "\n",
        "\n",
        "\n"
      ],
      "metadata": {
        "id": "3lHRdqdb5XNh"
      }
    },
    {
      "cell_type": "markdown",
      "source": [
        "### **1. Numeric** \n",
        "\n",
        "Python supports two types of numbers: integers and floats. Integers are whole numbers (e.g. 9), while floats are fractional (e.g. 9.321). You can also convert integers to floats, and vice versa, but you need to be aware of the risks of doing so.\n",
        "\n",
        "Follow along with the code:"
      ],
      "metadata": {
        "id": "Ir0ay_e658Va"
      }
    },
    {
      "cell_type": "code",
      "source": [
        "intnum = 7\n",
        "type(intnum)"
      ],
      "metadata": {
        "id": "CJ2A6g7u372e",
        "colab": {
          "base_uri": "https://localhost:8080/"
        },
        "outputId": "371d737b-521d-4b67-c7e6-3d96a3bc2e68"
      },
      "execution_count": null,
      "outputs": [
        {
          "output_type": "execute_result",
          "data": {
            "text/plain": [
              "int"
            ]
          },
          "metadata": {},
          "execution_count": 73
        }
      ]
    },
    {
      "cell_type": "code",
      "source": [
        "floatnum = 7.4\n",
        "print(type(floatnum))\n",
        "\n",
        "# Or you could convert the integer you already have\n",
        "myfloat = float()\n"
      ],
      "metadata": {
        "id": "5EtmVidW38Ih",
        "colab": {
          "base_uri": "https://localhost:8080/"
        },
        "outputId": "6a2f955e-b0a8-4d7b-8f3b-f174458838fc"
      },
      "execution_count": null,
      "outputs": [
        {
          "output_type": "stream",
          "name": "stdout",
          "text": [
            "<class 'float'>\n"
          ]
        }
      ]
    },
    {
      "cell_type": "code",
      "source": [
        "# Now see what happens when you convert a float to an int\n",
        "intnum = int(7.3)\n",
        "print(intnum)"
      ],
      "metadata": {
        "colab": {
          "base_uri": "https://localhost:8080/"
        },
        "id": "17-CaILt38X7",
        "outputId": "b65942e6-1e59-4368-a3d9-f01a083f65fc"
      },
      "execution_count": null,
      "outputs": [
        {
          "output_type": "stream",
          "name": "stdout",
          "text": [
            "7\n"
          ]
        }
      ]
    },
    {
      "cell_type": "code",
      "source": [
        "# Don't forget to use \"type()\" function! type() function is mostly used for debugging purposes.\n"
      ],
      "metadata": {
        "id": "0AA7-jeN6qY3"
      },
      "execution_count": null,
      "outputs": []
    },
    {
      "cell_type": "markdown",
      "source": [
        "### **Arithmetic operators**\n",
        "As you would expect, you can use the various mathematical operators with numbers (both integers and floats)."
      ],
      "metadata": {
        "id": "NCKoNUnVENjW"
      }
    },
    {
      "cell_type": "code",
      "source": [
        "number = (1 +2) * 3 / 4.0\n",
        "# Try to predict what the answer will be ... does Python follow order operations hierarchy?\n",
        "print(number)\n",
        "\n",
        "# The modulo (%) returns the integer remainder of a division\n",
        "remainder = 11 % 3\n",
        "\n",
        "one = 1\n",
        "two = 2\n",
        "three = one + two\n",
        "#print(three)\n",
        "\n",
        "a, b = 3, 4\n",
        "print(a, b)\n",
        "\n",
        "# Two multiplications is equivalent to a power operation\n",
        "squared = 7 ** 2\n",
        "print(squared)"
      ],
      "metadata": {
        "id": "TxYCYtMODxeC",
        "colab": {
          "base_uri": "https://localhost:8080/"
        },
        "outputId": "a34da320-4ade-4f36-e6fc-a40b7c85ddd9"
      },
      "execution_count": null,
      "outputs": [
        {
          "output_type": "stream",
          "name": "stdout",
          "text": [
            "2.25\n",
            "3 4\n",
            "49\n"
          ]
        }
      ]
    },
    {
      "cell_type": "markdown",
      "source": [
        "###**2. Boleans**\n",
        "Boolean data type is a data type that has one of two possible values which is intended to represent the two truth values of logic: if an expression is True or False."
      ],
      "metadata": {
        "id": "IjZOopaI4xMj"
      }
    },
    {
      "cell_type": "code",
      "source": [
        "print(4 < 7)\n",
        "\n",
        "a  = 6\n",
        "print(a > 4)"
      ],
      "metadata": {
        "id": "aY5V07pN4Ojz",
        "colab": {
          "base_uri": "https://localhost:8080/"
        },
        "outputId": "ad3b03df-3e4d-4b5f-e8b6-6cd3f6cc9756"
      },
      "execution_count": null,
      "outputs": [
        {
          "output_type": "stream",
          "name": "stdout",
          "text": [
            "True\n",
            "True\n"
          ]
        }
      ]
    },
    {
      "cell_type": "markdown",
      "source": [
        "### **3. Strings**\n",
        "Strings are the Python term for text. You can define these in either single or double quotes.\n",
        "\n"
      ],
      "metadata": {
        "id": "Uu5_CLPl6nn-"
      }
    },
    {
      "cell_type": "code",
      "source": [
        "mystring = \"Hello Class and Happy Monday!\"\n",
        "print(mystring)"
      ],
      "metadata": {
        "colab": {
          "base_uri": "https://localhost:8080/"
        },
        "id": "EVeyeSD438lR",
        "outputId": "5eed9fbf-0175-4b35-8d62-dade2dd3477a"
      },
      "execution_count": null,
      "outputs": [
        {
          "output_type": "stream",
          "name": "stdout",
          "text": [
            "Hello Class and Happy Monday!\n"
          ]
        }
      ]
    },
    {
      "cell_type": "markdown",
      "source": [
        "You can also apply simple operators to your variables, or assign multiple variables simultaneously.\n"
      ],
      "metadata": {
        "id": "Bcs4I2ky6yTy"
      }
    },
    {
      "cell_type": "code",
      "source": [
        "hello = \"Hello,\"\n",
        "world = \"World!\"\n",
        "helloworld = hello + \" \" + world\n",
        "print(helloworld)\n"
      ],
      "metadata": {
        "id": "tNgxYzdg60RD",
        "colab": {
          "base_uri": "https://localhost:8080/"
        },
        "outputId": "629ef063-e710-4684-a8ff-e2f32720525f"
      },
      "execution_count": null,
      "outputs": [
        {
          "output_type": "stream",
          "name": "stdout",
          "text": [
            "Hello, World!\n"
          ]
        }
      ]
    },
    {
      "cell_type": "markdown",
      "source": [
        "Note, though, that mixing variable types causes problems."
      ],
      "metadata": {
        "id": "Kv8fmSuV63iZ"
      }
    },
    {
      "cell_type": "code",
      "source": [
        "one = 1\n",
        "two = 2\n",
        "print(one + two + hello)\n",
        "type()\n"
      ],
      "metadata": {
        "id": "zcvqcDWL674T",
        "colab": {
          "base_uri": "https://localhost:8080/",
          "height": 201
        },
        "outputId": "41043100-c5a8-4625-a47c-37c071d5ea70"
      },
      "execution_count": null,
      "outputs": [
        {
          "output_type": "error",
          "ename": "TypeError",
          "evalue": "ignored",
          "traceback": [
            "\u001b[0;31m---------------------------------------------------------------------------\u001b[0m",
            "\u001b[0;31mTypeError\u001b[0m                                 Traceback (most recent call last)",
            "\u001b[0;32m<ipython-input-97-bd1a9afe9dcd>\u001b[0m in \u001b[0;36m<module>\u001b[0;34m()\u001b[0m\n\u001b[1;32m      1\u001b[0m \u001b[0mone\u001b[0m \u001b[0;34m=\u001b[0m \u001b[0;36m1\u001b[0m\u001b[0;34m\u001b[0m\u001b[0;34m\u001b[0m\u001b[0m\n\u001b[1;32m      2\u001b[0m \u001b[0mtwo\u001b[0m \u001b[0;34m=\u001b[0m \u001b[0;36m2\u001b[0m\u001b[0;34m\u001b[0m\u001b[0;34m\u001b[0m\u001b[0m\n\u001b[0;32m----> 3\u001b[0;31m \u001b[0mprint\u001b[0m\u001b[0;34m(\u001b[0m\u001b[0mone\u001b[0m \u001b[0;34m+\u001b[0m \u001b[0mtwo\u001b[0m \u001b[0;34m+\u001b[0m \u001b[0mhello\u001b[0m\u001b[0;34m)\u001b[0m\u001b[0;34m\u001b[0m\u001b[0;34m\u001b[0m\u001b[0m\n\u001b[0m",
            "\u001b[0;31mTypeError\u001b[0m: unsupported operand type(s) for +: 'int' and 'str'"
          ]
        }
      ]
    },
    {
      "cell_type": "markdown",
      "source": [
        "Python will throw an error when you make a mistake like this and the error will give you as much detail as it can about what just happened. This is extremely useful when you're attempting to \"debug\" your code.\n",
        "\n",
        "In this case, you're told: `TypeError: unsupported operand type(s) for +: 'int'` `and 'str'`\n",
        "\n",
        "And the context should make it clear that you tried to combine two integer variables with a string.\n",
        "\n",
        "You can also combine strings with placeholders for variables:\n",
        "\n"
      ],
      "metadata": {
        "id": "qMFqsZHY6_ox"
      }
    },
    {
      "cell_type": "code",
      "source": [
        "print(one , two , hello)"
      ],
      "metadata": {
        "id": "SjJ7iAZ8BpT8",
        "colab": {
          "base_uri": "https://localhost:8080/"
        },
        "outputId": "d6763832-cf56-413c-9c34-cc2c397a0f8c"
      },
      "execution_count": null,
      "outputs": [
        {
          "output_type": "stream",
          "name": "stdout",
          "text": [
            "1 2 Hello,\n"
          ]
        }
      ]
    },
    {
      "cell_type": "code",
      "source": [
        "my_numb = 3\n",
        "print(\"My lucky number is: {}\".format(my_numb))"
      ],
      "metadata": {
        "id": "dVwJVQaLJXs3",
        "colab": {
          "base_uri": "https://localhost:8080/"
        },
        "outputId": "ccd57dbf-d7df-4d8d-84a6-ed976e0e8efb"
      },
      "execution_count": null,
      "outputs": [
        {
          "output_type": "stream",
          "name": "stdout",
          "text": [
            "My lucky number is: 3\n"
          ]
        }
      ]
    },
    {
      "cell_type": "code",
      "source": [
        "a_string = \"Hello, World!\"\n",
        "print(\"String length: {}\".format(len(a_string)))"
      ],
      "metadata": {
        "id": "StaU2KR9Jccc",
        "colab": {
          "base_uri": "https://localhost:8080/"
        },
        "outputId": "bf23c08a-83d1-4ea6-d3f9-afb8b8a8286f"
      },
      "execution_count": null,
      "outputs": [
        {
          "output_type": "stream",
          "name": "stdout",
          "text": [
            "String length: 13\n"
          ]
        }
      ]
    },
    {
      "cell_type": "code",
      "source": [
        "len(a_string)"
      ],
      "metadata": {
        "colab": {
          "base_uri": "https://localhost:8080/"
        },
        "id": "paXbUURDWB5K",
        "outputId": "ae5d4e5f-3b19-41b4-dc1f-713ffc82780d"
      },
      "execution_count": null,
      "outputs": [
        {
          "output_type": "execute_result",
          "data": {
            "text/plain": [
              "13"
            ]
          },
          "metadata": {},
          "execution_count": 99
        }
      ]
    },
    {
      "cell_type": "code",
      "source": [
        "# You've already seen arithmetic concatenations of strings\n",
        "helloworld = \"Hello,\" + \" \" + \"World!\"\n",
        "print(helloworld)\n",
        "\n",
        "# You an also multiply strings to form a repeating sequence\n",
        "manyhellos = \"Hello \" * 10\n",
        "#print(manyhellos)\n",
        "\n",
        "# But don't get carried away. Not everything will work.\n",
        "#nohellos = \"Hello \" / 10\n",
        "#print(nohellos)"
      ],
      "metadata": {
        "colab": {
          "base_uri": "https://localhost:8080/"
        },
        "id": "lbF9Jv_0EdRv",
        "outputId": "3aa782bd-b588-4315-d63b-df8d3c570c25"
      },
      "execution_count": null,
      "outputs": [
        {
          "output_type": "stream",
          "name": "stdout",
          "text": [
            "Hello, World!\n"
          ]
        }
      ]
    },
    {
      "cell_type": "code",
      "source": [
        "# Upper() and lower() functions\n",
        "\n",
        "sent = \"The weather is Nice\"\n",
        "# print(sent.upper().isupper())\n",
        "# print(sent.upper())\n",
        "print(sent.lower())\n",
        "len(sent)"
      ],
      "metadata": {
        "id": "Q0rAEd1pE4Vr",
        "colab": {
          "base_uri": "https://localhost:8080/"
        },
        "outputId": "15945496-341d-4a9f-8ae7-b7f93194c7d6"
      },
      "execution_count": null,
      "outputs": [
        {
          "output_type": "stream",
          "name": "stdout",
          "text": [
            "the weather is nice\n"
          ]
        },
        {
          "output_type": "execute_result",
          "data": {
            "text/plain": [
              "19"
            ]
          },
          "metadata": {},
          "execution_count": 109
        }
      ]
    },
    {
      "cell_type": "code",
      "source": [
        "# len() function "
      ],
      "metadata": {
        "id": "TokbWxfKFb87"
      },
      "execution_count": null,
      "outputs": []
    },
    {
      "cell_type": "code",
      "source": [
        "# Buildin Functions\n",
        "\n",
        "# Access to each character\n",
        "# sent[0:3]\n",
        "# location of each charactor \n",
        "sent.index(\"i\")\n",
        "# replace \n",
        "sent.replace(\"The\", \"In\")\n",
        "sent.find(\"is\")\n",
        "sent.count(\"i\")\n"
      ],
      "metadata": {
        "id": "Po39kl_dFqBZ",
        "colab": {
          "base_uri": "https://localhost:8080/"
        },
        "outputId": "c9577b8a-b49c-4d0e-bfb2-f53f83fdb506"
      },
      "execution_count": null,
      "outputs": [
        {
          "output_type": "execute_result",
          "data": {
            "text/plain": [
              "2"
            ]
          },
          "metadata": {},
          "execution_count": 112
        }
      ]
    },
    {
      "cell_type": "markdown",
      "source": [
        "### **4. Lists**\n",
        "Lists are used to store multiple items in a single variable.\n",
        "\n",
        "`Lists` are an ordered list of any type of variable. You can **combine as many variables as you like**, and they could even be of multiple types. Ordinarily, unless you have a specific reason to do so, lists will contain variables of one type.\n",
        "\n",
        "You can also **iterate** over a list (use each item in a list in sequence).\n",
        "\n",
        "A list is placed between square brackets: `[]`"
      ],
      "metadata": {
        "id": "GgkygqGZ7V3t"
      }
    },
    {
      "cell_type": "code",
      "source": [
        "mylist = [1,2,3]\n",
        "mylist.append(1)\n",
        "mylist.append(2)\n",
        "mylist.append(3)\n",
        "print(mylist)\n",
        "# Each item in a list can be addressed directly. \n",
        "# The first address in a Python list starts at 0\n",
        "print(mylist[1:4])\n",
        "# The last item in a Python list can be addressed as -1. \n",
        "# This is helpful when you don't know how long a list is likely to be.\n",
        "# print(mylist[-1])\n",
        "# You can also select subsets of the data in a list like this\n",
        "# print(mylist[1:3])\n",
        "\n",
        "# You can also loop through a list using a `for` statement.\n",
        "# Note that `x` is a new variable which takes on the value of each item in the list in order.\n",
        "\n",
        "for x in mylist:\n",
        "    print(x)"
      ],
      "metadata": {
        "colab": {
          "base_uri": "https://localhost:8080/"
        },
        "id": "SfUAMUvU7e5R",
        "outputId": "805ec8f1-4727-49fa-df12-054a82414a8e"
      },
      "execution_count": null,
      "outputs": [
        {
          "output_type": "stream",
          "name": "stdout",
          "text": [
            "[1, 2, 3, 1, 2, 3]\n",
            "[2, 3, 1]\n",
            "1\n",
            "2\n",
            "3\n",
            "1\n",
            "2\n",
            "3\n"
          ]
        }
      ]
    },
    {
      "cell_type": "markdown",
      "source": [
        "If you try access an item in a list that isn't there, you'll get an error."
      ],
      "metadata": {
        "id": "7tsOx1fy7jxD"
      }
    },
    {
      "cell_type": "code",
      "source": [
        "print(mylist[10])\n"
      ],
      "metadata": {
        "colab": {
          "base_uri": "https://localhost:8080/",
          "height": 166
        },
        "id": "gOndZXm-7mKm",
        "outputId": "4fe37ea1-fb47-473a-d867-cb1fc972ebd0"
      },
      "execution_count": null,
      "outputs": [
        {
          "output_type": "error",
          "ename": "IndexError",
          "evalue": "ignored",
          "traceback": [
            "\u001b[0;31m---------------------------------------------------------------------------\u001b[0m",
            "\u001b[0;31mIndexError\u001b[0m                                Traceback (most recent call last)",
            "\u001b[0;32m<ipython-input-122-46c3ae90a572>\u001b[0m in \u001b[0;36m<module>\u001b[0;34m()\u001b[0m\n\u001b[0;32m----> 1\u001b[0;31m \u001b[0mprint\u001b[0m\u001b[0;34m(\u001b[0m\u001b[0mmylist\u001b[0m\u001b[0;34m[\u001b[0m\u001b[0;36m10\u001b[0m\u001b[0;34m]\u001b[0m\u001b[0;34m)\u001b[0m\u001b[0;34m\u001b[0m\u001b[0;34m\u001b[0m\u001b[0m\n\u001b[0m",
            "\u001b[0;31mIndexError\u001b[0m: list index out of range"
          ]
        }
      ]
    },
    {
      "cell_type": "code",
      "source": [
        "even_numbers = [2, 4, 6, 8]\n",
        "uneven_numbers = [1, 3, 5, 7]\n",
        "all_numbers = uneven_numbers + even_numbers\n",
        "print(all_numbers)\n",
        "\n",
        "# You can also repeat sequences of lists\n",
        "print([1, 2 , 3] * 3)"
      ],
      "metadata": {
        "colab": {
          "base_uri": "https://localhost:8080/"
        },
        "id": "q2qQ4oODKQ7a",
        "outputId": "de074a45-fe96-4b59-91c0-242ff717e5a7"
      },
      "execution_count": null,
      "outputs": [
        {
          "output_type": "stream",
          "name": "stdout",
          "text": [
            "[1, 3, 5, 7, 2, 4, 6, 8]\n",
            "[1, 2, 3, 1, 2, 3, 1, 2, 3]\n"
          ]
        }
      ]
    },
    {
      "cell_type": "code",
      "source": [
        "friends = [\"Mary\", \"George\" , \"Ali\", \"Sher\"]\n",
        "print(friends)"
      ],
      "metadata": {
        "colab": {
          "base_uri": "https://localhost:8080/"
        },
        "id": "gs1mJBjvKdO5",
        "outputId": "6bd16147-8cf4-406e-9d77-df5de5656b33"
      },
      "execution_count": null,
      "outputs": [
        {
          "output_type": "stream",
          "name": "stdout",
          "text": [
            "['Mary', 'George', 'Ali', 'Sher']\n"
          ]
        }
      ]
    },
    {
      "cell_type": "code",
      "source": [
        "friends[1]"
      ],
      "metadata": {
        "id": "HgCl_aQ9KhW8",
        "colab": {
          "base_uri": "https://localhost:8080/",
          "height": 35
        },
        "outputId": "eb17087e-de83-48e0-f0f5-8181bd6e2292"
      },
      "execution_count": null,
      "outputs": [
        {
          "output_type": "execute_result",
          "data": {
            "application/vnd.google.colaboratory.intrinsic+json": {
              "type": "string"
            },
            "text/plain": [
              "'George'"
            ]
          },
          "metadata": {},
          "execution_count": 124
        }
      ]
    },
    {
      "cell_type": "code",
      "source": [
        "friends[0:2]"
      ],
      "metadata": {
        "id": "WyuPuBcFKiFM",
        "colab": {
          "base_uri": "https://localhost:8080/"
        },
        "outputId": "fa3d63f5-27c1-456e-936d-adec1a8bfe61"
      },
      "execution_count": null,
      "outputs": [
        {
          "output_type": "execute_result",
          "data": {
            "text/plain": [
              "['Mary', 'George']"
            ]
          },
          "metadata": {},
          "execution_count": 125
        }
      ]
    },
    {
      "cell_type": "code",
      "source": [
        "friends.append(\"Alicia\")\n",
        "print(friends)"
      ],
      "metadata": {
        "id": "4C06M_03Jwbw",
        "colab": {
          "base_uri": "https://localhost:8080/"
        },
        "outputId": "852f0712-d08a-4bc3-daf9-61751ea738bf"
      },
      "execution_count": null,
      "outputs": [
        {
          "output_type": "stream",
          "name": "stdout",
          "text": [
            "['Mary', 'George', 'Ali', 'Sher', 'Alicia']\n"
          ]
        }
      ]
    },
    {
      "cell_type": "code",
      "source": [
        "# friends.remove(\"Sher\")\n",
        "print(friends)"
      ],
      "metadata": {
        "id": "kCS5dHYbKBjH",
        "colab": {
          "base_uri": "https://localhost:8080/"
        },
        "outputId": "0523f2f1-eef6-4928-fa51-4b7568fc8829"
      },
      "execution_count": null,
      "outputs": [
        {
          "output_type": "stream",
          "name": "stdout",
          "text": [
            "['Mary', 'George', 'Ali', 'Alicia']\n"
          ]
        }
      ]
    },
    {
      "cell_type": "code",
      "source": [
        "#if an element is in the list? check the index\n",
        "friends.index(\"Ali\")"
      ],
      "metadata": {
        "id": "Z4-SKMAPKLRi",
        "colab": {
          "base_uri": "https://localhost:8080/"
        },
        "outputId": "34a7dd82-f829-4dc7-c528-cc828623c25f"
      },
      "execution_count": null,
      "outputs": [
        {
          "output_type": "execute_result",
          "data": {
            "text/plain": [
              "2"
            ]
          },
          "metadata": {},
          "execution_count": 130
        }
      ]
    },
    {
      "cell_type": "code",
      "source": [
        "friends.count(\"Ali\")"
      ],
      "metadata": {
        "colab": {
          "base_uri": "https://localhost:8080/"
        },
        "id": "Yhh-RVBtKa4z",
        "outputId": "5f91e73f-eec4-43d5-9f2a-8387a88bbc82"
      },
      "execution_count": null,
      "outputs": [
        {
          "output_type": "execute_result",
          "data": {
            "text/plain": [
              "1"
            ]
          },
          "metadata": {},
          "execution_count": 131
        }
      ]
    },
    {
      "cell_type": "code",
      "source": [
        "#friends.insert(0, \"\")\n",
        "#.clear\n",
        "#.pop for the last element"
      ],
      "metadata": {
        "id": "jEALboNdLSH0"
      },
      "execution_count": null,
      "outputs": []
    },
    {
      "cell_type": "code",
      "source": [
        "friends.sort()\n"
      ],
      "metadata": {
        "id": "Yjx4goEJKk9n"
      },
      "execution_count": null,
      "outputs": []
    },
    {
      "cell_type": "code",
      "source": [
        "print(friends)\n"
      ],
      "metadata": {
        "id": "aj5Z-sK1K8nh",
        "colab": {
          "base_uri": "https://localhost:8080/"
        },
        "outputId": "ecc420d7-30a3-4270-c2e6-c847b9c74a85"
      },
      "execution_count": null,
      "outputs": [
        {
          "output_type": "stream",
          "name": "stdout",
          "text": [
            "['Ali', 'Alicia', 'George', 'Mary']\n"
          ]
        }
      ]
    },
    {
      "cell_type": "markdown",
      "source": [
        "###**2D List**\n",
        "\n",
        "As we cannot use 1d list in every use case so python 2d list is used. Also, known as lists inside a list or a nested list."
      ],
      "metadata": {
        "id": "xI7lxIL5fh12"
      }
    },
    {
      "cell_type": "code",
      "source": [
        "numbers = [\n",
        "         [1,2,3],\n",
        "         [4,5,6],\n",
        "         [7,8]\n",
        "]"
      ],
      "metadata": {
        "id": "-4Z9VQ4NfzZ8"
      },
      "execution_count": null,
      "outputs": []
    },
    {
      "cell_type": "code",
      "source": [
        "# nested for loop\n",
        "\n",
        "for row in numbers:\n",
        "  print(row)\n",
        "  for col in row:\n",
        "    print(col)\n",
        "    "
      ],
      "metadata": {
        "id": "rGcGlAFggJTD",
        "colab": {
          "base_uri": "https://localhost:8080/"
        },
        "outputId": "99979ab4-90de-444e-e3ca-094ae60866d0"
      },
      "execution_count": null,
      "outputs": [
        {
          "output_type": "stream",
          "name": "stdout",
          "text": [
            "1\n",
            "2\n",
            "3\n",
            "4\n",
            "5\n",
            "6\n",
            "7\n",
            "8\n"
          ]
        }
      ]
    },
    {
      "cell_type": "markdown",
      "source": [
        "###**5. Tuples**\n",
        "\n",
        "\n",
        "A Tuple is a collection of Python elements separated by commas. In someways a tuple is similar to a list in terms of indexing, nested objects and repetition but a tuple is **immutable** unlike lists which are mutable. \n",
        "\n",
        "With Tuples, You cannot changes or modify, delete, add them."
      ],
      "metadata": {
        "id": "wx-LlIS9Yi-b"
      }
    },
    {
      "cell_type": "code",
      "source": [
        "coordinates = (118, 441)"
      ],
      "metadata": {
        "id": "3GTMJ0pGZM6A"
      },
      "execution_count": null,
      "outputs": []
    },
    {
      "cell_type": "code",
      "source": [
        "# Access the elements \n",
        "coordinates[0]"
      ],
      "metadata": {
        "id": "pqnUGpeDMZaq",
        "colab": {
          "base_uri": "https://localhost:8080/"
        },
        "outputId": "84dc62dd-0128-414b-d5eb-4a9526b54094"
      },
      "execution_count": null,
      "outputs": [
        {
          "output_type": "execute_result",
          "data": {
            "text/plain": [
              "118"
            ]
          },
          "metadata": {},
          "execution_count": 141
        }
      ]
    },
    {
      "cell_type": "code",
      "source": [
        "# Can we change the items?\n",
        "coordinates[1] = 6669796685"
      ],
      "metadata": {
        "id": "2vM-iAs-ZsUw",
        "colab": {
          "base_uri": "https://localhost:8080/",
          "height": 183
        },
        "outputId": "78c48a4e-0008-4665-89b6-2b7c3a8cc21c"
      },
      "execution_count": null,
      "outputs": [
        {
          "output_type": "error",
          "ename": "TypeError",
          "evalue": "ignored",
          "traceback": [
            "\u001b[0;31m---------------------------------------------------------------------------\u001b[0m",
            "\u001b[0;31mTypeError\u001b[0m                                 Traceback (most recent call last)",
            "\u001b[0;32m<ipython-input-142-9452646c9fb8>\u001b[0m in \u001b[0;36m<module>\u001b[0;34m()\u001b[0m\n\u001b[1;32m      1\u001b[0m \u001b[0;31m# Can we change the items?\u001b[0m\u001b[0;34m\u001b[0m\u001b[0;34m\u001b[0m\u001b[0;34m\u001b[0m\u001b[0m\n\u001b[0;32m----> 2\u001b[0;31m \u001b[0mcoordinates\u001b[0m\u001b[0;34m[\u001b[0m\u001b[0;36m1\u001b[0m\u001b[0;34m]\u001b[0m \u001b[0;34m=\u001b[0m \u001b[0;36m6669796685\u001b[0m\u001b[0;34m\u001b[0m\u001b[0;34m\u001b[0m\u001b[0m\n\u001b[0m",
            "\u001b[0;31mTypeError\u001b[0m: 'tuple' object does not support item assignment"
          ]
        }
      ]
    },
    {
      "cell_type": "code",
      "source": [
        "list(coordinates)\n"
      ],
      "metadata": {
        "id": "ZPPPK223MwN1",
        "colab": {
          "base_uri": "https://localhost:8080/"
        },
        "outputId": "b85686ea-1e48-4f0e-9b21-7b7b7f2d077b"
      },
      "execution_count": null,
      "outputs": [
        {
          "output_type": "execute_result",
          "data": {
            "text/plain": [
              "[118, 441]"
            ]
          },
          "metadata": {},
          "execution_count": 143
        }
      ]
    },
    {
      "cell_type": "code",
      "source": [
        "#coordinates2 = [(1,2), (3,7), (7,5)]\n",
        "#coordinates2[1]"
      ],
      "metadata": {
        "id": "v-r1F6JANBpO"
      },
      "execution_count": null,
      "outputs": []
    },
    {
      "cell_type": "markdown",
      "source": [
        "#**Getting Input From Users**\n",
        "`input ( )` : This function first takes the input from the user and then evaluates the expression."
      ],
      "metadata": {
        "id": "gdqAgypoEr_a"
      }
    },
    {
      "cell_type": "code",
      "source": [
        "num = input (\"Enter number :\")\n",
        "print(num)\n"
      ],
      "metadata": {
        "colab": {
          "base_uri": "https://localhost:8080/"
        },
        "id": "zg2z9PWGEqys",
        "outputId": "23cddc41-2ea9-428b-bdad-44952d534954"
      },
      "execution_count": null,
      "outputs": [
        {
          "output_type": "stream",
          "name": "stdout",
          "text": [
            "Enter number :44\n",
            "44\n"
          ]
        }
      ]
    },
    {
      "cell_type": "code",
      "source": [
        "name1 = input(\"Enter name : \")\n",
        "print(\"My name is \"+ name1 + \"and I am \"+ num + \" years old!\")"
      ],
      "metadata": {
        "colab": {
          "base_uri": "https://localhost:8080/"
        },
        "id": "bJWuBq5LNoPt",
        "outputId": "c1dd30b6-8971-4214-e8c6-8bca0ce1e892"
      },
      "execution_count": null,
      "outputs": [
        {
          "output_type": "stream",
          "name": "stdout",
          "text": [
            "Enter name : j\n",
            "My name is jand I am 66 years old!\n"
          ]
        }
      ]
    },
    {
      "cell_type": "code",
      "source": [
        "type(num)"
      ],
      "metadata": {
        "colab": {
          "base_uri": "https://localhost:8080/"
        },
        "id": "zUn67j7PFRzB",
        "outputId": "dd0e3b85-50c6-4f2e-b4b4-cd7b3bfbf710"
      },
      "execution_count": null,
      "outputs": [
        {
          "output_type": "execute_result",
          "data": {
            "text/plain": [
              "str"
            ]
          },
          "metadata": {},
          "execution_count": 7
        }
      ]
    },
    {
      "cell_type": "markdown",
      "source": [
        "\n",
        "\n",
        "\n",
        "Ok, how about calculation? \n",
        "\n",
        "\n"
      ],
      "metadata": {
        "id": "Rgi0yYQfG4x5"
      }
    },
    {
      "cell_type": "code",
      "source": [
        "num1 = input(\"Enter a number:\")\n",
        "num2 = input(\"Enter another number:\")\n",
        "result = num1+num2"
      ],
      "metadata": {
        "id": "w9f-VkLlHG7c"
      },
      "execution_count": null,
      "outputs": []
    },
    {
      "cell_type": "markdown",
      "source": [
        "# **Conditions**\n",
        "In the section on Indentation you were introduced to the `if` statement and the set of boolean operators that allow you to test different variables against each other.\n",
        "\n",
        "To that list of boolean operators are added a new set of comparisons:` and, or and in.`"
      ],
      "metadata": {
        "id": "A1HOLxQS8kTf"
      }
    },
    {
      "cell_type": "markdown",
      "source": [
        "These can be used to create nuanced comparisons using if. You can use a series of comparisons with `if, elif and else`.\n",
        "Look at the below statement:\n",
        "```\n",
        "I want to go out\n",
        "\n",
        "If it is cloudy \n",
        "\n",
        "  I bring an umbrella\n",
        "\n",
        "Otherwise if it is sunny\n",
        "\n",
        "  I bring sunglasses\n",
        "\n",
        "otherwise\n",
        "\n",
        "I take a cab\n",
        "\n",
        "\n",
        "\n",
        "1)\n",
        "If condition:\n",
        "  statement1\n",
        "\n",
        "2)\n",
        "If condition:\n",
        "  statement1\n",
        "else:\n",
        "  statement3\n",
        "  \n",
        "3)\n",
        "If condition:\n",
        "  statement1\n",
        "elif:\n",
        "  statement2\n",
        "else:\n",
        "  statement3\n",
        "\n",
        "```\n",
        "\n"
      ],
      "metadata": {
        "id": "xWEs9XDe8xz1"
      }
    },
    {
      "cell_type": "code",
      "source": [
        "# Unexpected results\n",
        "x = 2\n",
        "if x > 2:\n",
        "    print(\"Testing x\")\n",
        "print(\"x > 2\")\n",
        "# Formated correctly\n",
        "if x == 2:\n",
        "    print(\"x == 2\")"
      ],
      "metadata": {
        "colab": {
          "base_uri": "https://localhost:8080/"
        },
        "id": "gpVEr-vD8diX",
        "outputId": "9268afa5-0c4b-4101-c30d-62d54a828288"
      },
      "execution_count": null,
      "outputs": [
        {
          "output_type": "stream",
          "name": "stdout",
          "text": [
            "x > 2\n",
            "x == 2\n"
          ]
        }
      ]
    },
    {
      "cell_type": "code",
      "source": [
        "# Demonstrating more complex if tests and use input finction()\n",
        "x = 2\n",
        "y = 10\n",
        "if x > 2:\n",
        "    print(\"x > 2\")\n",
        "elif x == 2 and y > 50:\n",
        "    print(\"x == 2 and y > 50\")\n",
        "elif x < 10 or y > 50:\n",
        "    # But, remember, you don't know WHICH condition was True\n",
        "    print(\"x < 10 or y > 50\")\n",
        "else:\n",
        "    print(\"Nothing worked.\")"
      ],
      "metadata": {
        "colab": {
          "base_uri": "https://localhost:8080/"
        },
        "id": "T67Pv_Gc8drH",
        "outputId": "e421ee57-b267-455d-de48-e7169253a0f4"
      },
      "execution_count": null,
      "outputs": [
        {
          "output_type": "stream",
          "name": "stdout",
          "text": [
            "x < 10 or y > 50\n"
          ]
        }
      ]
    },
    {
      "cell_type": "code",
      "source": [
        "#input(\"Enter your age\")"
      ],
      "metadata": {
        "id": "flzXqaP5WV4A"
      },
      "execution_count": null,
      "outputs": []
    },
    {
      "cell_type": "markdown",
      "source": [
        "# **Loops**\n",
        "Looping means repeating something over and over until a particular condition is satisfie or duntil that object is complete.\n",
        "\n",
        "There are two types of loop in Python:\n",
        "\n",
        "\n",
        "\n",
        "```\n",
        "1) for loop : for loops are traditionally used when you have a block of code which you want to repeat a fixed number of times. \n",
        "you can use it for range, lists, tuples,....\n",
        "\n",
        "    For var in iterable:\n",
        "      statement\n",
        "      \n",
        "2) While loop : A \"While\" Loop is used to repeat a specific block of code an unknown number of times\n",
        "\n",
        "  While condition:\n",
        "    statement\n",
        "```\n",
        "\n",
        "\n"
      ],
      "metadata": {
        "id": "_cHsbaEw9Ivu"
      }
    },
    {
      "cell_type": "code",
      "source": [
        "# for loop\n",
        "\n",
        "for letter in \"the weather is nice today\":\n",
        " print(letter)"
      ],
      "metadata": {
        "id": "aGIMV_Sua6yJ",
        "colab": {
          "base_uri": "https://localhost:8080/"
        },
        "outputId": "2d99073d-8278-4de0-f83f-a57c3f2ec247"
      },
      "execution_count": null,
      "outputs": [
        {
          "output_type": "stream",
          "name": "stdout",
          "text": [
            "t\n",
            "h\n",
            "e\n",
            " \n",
            "w\n",
            "e\n",
            "a\n",
            "t\n",
            "h\n",
            "e\n",
            "r\n",
            " \n",
            "i\n",
            "s\n",
            " \n",
            "n\n",
            "i\n",
            "c\n",
            "e\n",
            " \n",
            "t\n",
            "o\n",
            "d\n",
            "a\n",
            "y\n"
          ]
        }
      ]
    },
    {
      "cell_type": "code",
      "source": [
        "names = [\"Mary\", \"George\" , \"Ali\", \"Sher\"]"
      ],
      "metadata": {
        "id": "_to5LM0BbQ4K"
      },
      "execution_count": null,
      "outputs": []
    },
    {
      "cell_type": "markdown",
      "source": [
        "`range(start, stop) creates a list of integers between start and stop, or range(num) creates a zero-based list up to num`"
      ],
      "metadata": {
        "id": "1ZEy-R9mctiP"
      }
    },
    {
      "cell_type": "code",
      "source": [
        "#for i in range(1,10)"
      ],
      "metadata": {
        "id": "q8vByK0gbiax"
      },
      "execution_count": null,
      "outputs": []
    },
    {
      "cell_type": "code",
      "source": [
        "# for i in range(len()):\n",
        "#print(name[i])"
      ],
      "metadata": {
        "id": "ClXXGEg5bozk"
      },
      "execution_count": null,
      "outputs": []
    },
    {
      "cell_type": "code",
      "source": [
        "# while loop\n",
        " i = 1\n",
        " while i <= 10:\n",
        "   print(i)\n",
        "   i+= 1\n",
        "print(\"Done?\")"
      ],
      "metadata": {
        "id": "BBlMYNCuaKJ0"
      },
      "execution_count": null,
      "outputs": []
    },
    {
      "cell_type": "markdown",
      "source": [
        "\n",
        "`break` exits a `while` or `for` loop immediately\n",
        "`continue` skips the current loop and returns to the loop conditional"
      ],
      "metadata": {
        "id": "VJjmJtbu9e1p"
      }
    },
    {
      "cell_type": "code",
      "source": [
        "# Break and while conditional\n",
        "print(\"Break and while conditional\")\n",
        "count = 0\n",
        "while True:\n",
        "    # You may think this would run forever, but ...\n",
        "    print(count)\n",
        "    count += 1\n",
        "    if count >= 5:\n",
        "        break\n"
      ],
      "metadata": {
        "colab": {
          "base_uri": "https://localhost:8080/"
        },
        "id": "RKN1_57t8eIX",
        "outputId": "be93d545-2bca-4f01-aa7a-d929245c0450"
      },
      "execution_count": null,
      "outputs": [
        {
          "output_type": "stream",
          "name": "stdout",
          "text": [
            "Break and while conditional\n",
            "0\n",
            "1\n",
            "2\n",
            "3\n",
            "4\n"
          ]
        }
      ]
    },
    {
      "cell_type": "markdown",
      "source": [
        "# **Functions**\n",
        "\n",
        "A function is a block of code that only runs when it is called. Python functions return a value using a return statement, if one is specified. A function can be called anywhere after the function has been declared.\n",
        "You can use functions for orgonizing your codes.\n",
        "\n",
        "\n",
        "\n",
        "```\n",
        "def name_Of_Function (parameters):\n",
        "  print()\n",
        "\n",
        "Hoq to call the function:\n",
        "\n",
        "name_Of_Function(param)\n",
        "\n",
        "```\n",
        "\n",
        "\n"
      ],
      "metadata": {
        "id": "Eg34jaZ39lJy"
      }
    },
    {
      "cell_type": "code",
      "source": [
        "def employee(name, age):\n",
        "  print(name + \" is \" + str(age))\n",
        "\n",
        "employee(\"Mike\", 20)"
      ],
      "metadata": {
        "colab": {
          "base_uri": "https://localhost:8080/"
        },
        "id": "_3LIoHDs8ePy",
        "outputId": "db12f276-51c1-48d2-8f63-157691916dbd"
      },
      "execution_count": null,
      "outputs": [
        {
          "output_type": "stream",
          "name": "stdout",
          "text": [
            "Mike is 20\n",
            "None\n"
          ]
        }
      ]
    },
    {
      "cell_type": "code",
      "source": [
        "# Retrun Statement: breaks the function\n",
        "def area(num):\n",
        "  return num * num\n",
        "\n",
        "area(5)"
      ],
      "metadata": {
        "colab": {
          "base_uri": "https://localhost:8080/"
        },
        "id": "QhmTHVWJjJIT",
        "outputId": "a6823e00-d14e-4dac-acc3-d4b63799fbb8"
      },
      "execution_count": null,
      "outputs": [
        {
          "output_type": "execute_result",
          "data": {
            "text/plain": [
              "25"
            ]
          },
          "metadata": {},
          "execution_count": 54
        }
      ]
    },
    {
      "cell_type": "code",
      "source": [
        "def tri_recursion(k):\n",
        "  if(k > 0):\n",
        "    result = k + tri_recursion(k - 1)\n",
        "    print(result)\n",
        "  else:\n",
        "    result = 0\n",
        "  return result\n",
        "\n",
        "print(\"\\n\\nRecursion Example Results\")\n",
        "tri_recursion()"
      ],
      "metadata": {
        "colab": {
          "base_uri": "https://localhost:8080/",
          "height": 253
        },
        "id": "Betg7YHLkBKS",
        "outputId": "7edfbf84-0631-4f53-e15e-59ab1d8dd228"
      },
      "execution_count": null,
      "outputs": [
        {
          "output_type": "stream",
          "name": "stdout",
          "text": [
            "\n",
            "\n",
            "Recursion Example Results\n"
          ]
        },
        {
          "output_type": "error",
          "ename": "TypeError",
          "evalue": "ignored",
          "traceback": [
            "\u001b[0;31m---------------------------------------------------------------------------\u001b[0m",
            "\u001b[0;31mTypeError\u001b[0m                                 Traceback (most recent call last)",
            "\u001b[0;32m<ipython-input-56-af423704713a>\u001b[0m in \u001b[0;36m<module>\u001b[0;34m()\u001b[0m\n\u001b[1;32m      8\u001b[0m \u001b[0;34m\u001b[0m\u001b[0m\n\u001b[1;32m      9\u001b[0m \u001b[0mprint\u001b[0m\u001b[0;34m(\u001b[0m\u001b[0;34m\"\\n\\nRecursion Example Results\"\u001b[0m\u001b[0;34m)\u001b[0m\u001b[0;34m\u001b[0m\u001b[0;34m\u001b[0m\u001b[0m\n\u001b[0;32m---> 10\u001b[0;31m \u001b[0mtri_recursion\u001b[0m\u001b[0;34m(\u001b[0m\u001b[0;34m)\u001b[0m\u001b[0;34m\u001b[0m\u001b[0;34m\u001b[0m\u001b[0m\n\u001b[0m",
            "\u001b[0;31mTypeError\u001b[0m: tri_recursion() missing 1 required positional argument: 'k'"
          ]
        }
      ]
    },
    {
      "cell_type": "markdown",
      "source": [
        "#**Reading From File**"
      ],
      "metadata": {
        "id": "aGeDJzv4KXnh"
      }
    },
    {
      "cell_type": "markdown",
      "source": [
        "\n",
        "To read a text file in Python, you follow these steps:\n",
        "\n",
        "```\n",
        "1 - First, open a text file for reading by using the open() function.\n",
        "2 - Read text from the text file using the file read(), readline(), or readlines() method of the file object.\n",
        "3 - close the file using the file close() method.\n",
        "\n",
        "The following table shows available modes for opening a text file:\n",
        "\n",
        "Mode\tDescription\n",
        "'r'\tOpen a text file for reading text\n",
        "'w'\tOpen a text file for writing text\n",
        "'a'\tOpen a text file for appending text\n",
        "```\n",
        "\n"
      ],
      "metadata": {
        "id": "8Nxw-6IzKcsu"
      }
    },
    {
      "cell_type": "code",
      "source": [
        "# Reading the file\n",
        "my_file = open(\"employee.txt\", \"r\")\n",
        "#print(my_file.read())\n",
        "\n",
        "#print(my_file.readline())\n",
        "#print(my_file.readline())\n",
        "\n",
        "#read as a list\n",
        "#print(my_file.readlines())\n",
        "\n",
        "#print(my_file.readlines()[1])\n",
        "\n",
        "#for employee in my_file.readlines():\n",
        "#  print(employee)\n",
        "\n",
        "my_file.close()"
      ],
      "metadata": {
        "colab": {
          "base_uri": "https://localhost:8080/",
          "height": 235
        },
        "id": "Hp2eqWHzKc2P",
        "outputId": "0af1f5b4-0740-48a8-eeb0-525628e4b035"
      },
      "execution_count": null,
      "outputs": [
        {
          "output_type": "error",
          "ename": "FileNotFoundError",
          "evalue": "ignored",
          "traceback": [
            "\u001b[0;31m---------------------------------------------------------------------------\u001b[0m",
            "\u001b[0;31mFileNotFoundError\u001b[0m                         Traceback (most recent call last)",
            "\u001b[0;32m<ipython-input-57-9a6b0cf80dec>\u001b[0m in \u001b[0;36m<module>\u001b[0;34m()\u001b[0m\n\u001b[1;32m      1\u001b[0m \u001b[0;31m# Reading the file\u001b[0m\u001b[0;34m\u001b[0m\u001b[0;34m\u001b[0m\u001b[0;34m\u001b[0m\u001b[0m\n\u001b[0;32m----> 2\u001b[0;31m \u001b[0mmy_file\u001b[0m \u001b[0;34m=\u001b[0m \u001b[0mopen\u001b[0m\u001b[0;34m(\u001b[0m\u001b[0;34m\"employee.txt\"\u001b[0m\u001b[0;34m,\u001b[0m \u001b[0;34m\"r\"\u001b[0m\u001b[0;34m)\u001b[0m\u001b[0;34m\u001b[0m\u001b[0;34m\u001b[0m\u001b[0m\n\u001b[0m\u001b[1;32m      3\u001b[0m \u001b[0mprint\u001b[0m\u001b[0;34m(\u001b[0m\u001b[0mmy_file\u001b[0m\u001b[0;34m.\u001b[0m\u001b[0mread\u001b[0m\u001b[0;34m(\u001b[0m\u001b[0;34m)\u001b[0m\u001b[0;34m)\u001b[0m\u001b[0;34m\u001b[0m\u001b[0;34m\u001b[0m\u001b[0m\n\u001b[1;32m      4\u001b[0m \u001b[0;31m#print(my_file.readline())\u001b[0m\u001b[0;34m\u001b[0m\u001b[0;34m\u001b[0m\u001b[0;34m\u001b[0m\u001b[0m\n\u001b[1;32m      5\u001b[0m \u001b[0;31m#print(my_file.readline())\u001b[0m\u001b[0;34m\u001b[0m\u001b[0;34m\u001b[0m\u001b[0;34m\u001b[0m\u001b[0m\n",
            "\u001b[0;31mFileNotFoundError\u001b[0m: [Errno 2] No such file or directory: 'employee.txt'"
          ]
        }
      ]
    },
    {
      "cell_type": "markdown",
      "source": [
        "We’ve opened our scone.txt file using the w mode. This means that we can write to the file with which we are working. There are a couple of different modes that you may want to use. The ones we need for writing are:\n",
        "\n",
        "```\n",
        "a: This mode appends information to the end of a file.\n",
        "w: This mode allows you to write to a file. It erases the contents of a file and creates a new one.\n",
        "```\n",
        "\n"
      ],
      "metadata": {
        "id": "upjhIO3OpYJd"
      }
    },
    {
      "cell_type": "code",
      "source": [
        "#appending to the file\n",
        "my_file = open(\"employee.txt\", \"a\")\n",
        "\n",
        "my_file.write(\"\\nJohn - ML Engineer\")\n",
        "\n",
        "my_file.close()\n"
      ],
      "metadata": {
        "id": "lDKqxZWHlcnf"
      },
      "execution_count": null,
      "outputs": []
    },
    {
      "cell_type": "code",
      "source": [
        "#overwritting the file\n",
        "my_file = open(\"employee1.txt\", \"w\")\n",
        "\n",
        "my_file.write(\"\\nJohn - ML Engineer\")\n",
        "\n",
        "my_file.close()\n"
      ],
      "metadata": {
        "colab": {
          "base_uri": "https://localhost:8080/",
          "height": 218
        },
        "id": "ujJLePd8mh1k",
        "outputId": "23d933f9-9e8c-4d31-f322-4d485e435584"
      },
      "execution_count": null,
      "outputs": [
        {
          "output_type": "error",
          "ename": "UnsupportedOperation",
          "evalue": "ignored",
          "traceback": [
            "\u001b[0;31m---------------------------------------------------------------------------\u001b[0m",
            "\u001b[0;31mUnsupportedOperation\u001b[0m                      Traceback (most recent call last)",
            "\u001b[0;32m<ipython-input-170-05dac4ebe935>\u001b[0m in \u001b[0;36m<module>\u001b[0;34m()\u001b[0m\n\u001b[1;32m      3\u001b[0m \u001b[0;34m\u001b[0m\u001b[0m\n\u001b[1;32m      4\u001b[0m \u001b[0mmy_file\u001b[0m\u001b[0;34m.\u001b[0m\u001b[0mwrite\u001b[0m\u001b[0;34m(\u001b[0m\u001b[0;34m\"\\nJohn - ML Engineer\"\u001b[0m\u001b[0;34m)\u001b[0m\u001b[0;34m\u001b[0m\u001b[0;34m\u001b[0m\u001b[0m\n\u001b[0;32m----> 5\u001b[0;31m \u001b[0mprint\u001b[0m\u001b[0;34m(\u001b[0m\u001b[0mmy_file\u001b[0m\u001b[0;34m.\u001b[0m\u001b[0mread\u001b[0m\u001b[0;34m(\u001b[0m\u001b[0;34m)\u001b[0m\u001b[0;34m)\u001b[0m\u001b[0;34m\u001b[0m\u001b[0;34m\u001b[0m\u001b[0m\n\u001b[0m\u001b[1;32m      6\u001b[0m \u001b[0mmy_file\u001b[0m\u001b[0;34m.\u001b[0m\u001b[0mclose\u001b[0m\u001b[0;34m(\u001b[0m\u001b[0;34m)\u001b[0m\u001b[0;34m\u001b[0m\u001b[0;34m\u001b[0m\u001b[0m\n",
            "\u001b[0;31mUnsupportedOperation\u001b[0m: not readable"
          ]
        }
      ]
    },
    {
      "cell_type": "code",
      "source": [
        ""
      ],
      "metadata": {
        "id": "AqZTvh1JA-5_"
      },
      "execution_count": null,
      "outputs": []
    },
    {
      "cell_type": "markdown",
      "source": [
        "# **Working with Math Module**\n",
        "A Python module is a file containing Python definitions and statements. A module can define functions, classes, and variables. A module can also include runnable code.\n",
        "we can consider a module to be the same as a code library or a file that contains a set of functions that you want to include in your application."
      ],
      "metadata": {
        "id": "EZP_gVb4I35D"
      }
    },
    {
      "cell_type": "markdown",
      "source": [
        "Python math module is defined as the most famous mathematical functions, which includes trigonometric functions, representation functions, logarithmic functions, etc."
      ],
      "metadata": {
        "id": "d3QM6XB0r_a0"
      }
    },
    {
      "cell_type": "code",
      "source": [
        "import math\n",
        "num = 4\n",
        "print(sqrt(2))\n",
        "print(abs(-4))\n",
        "print(pow(2,3))"
      ],
      "metadata": {
        "colab": {
          "base_uri": "https://localhost:8080/"
        },
        "id": "57aAGgRWeFie",
        "outputId": "ada4e9ad-7ea8-4235-b06a-5b0ef692a2a9"
      },
      "execution_count": null,
      "outputs": [
        {
          "output_type": "stream",
          "name": "stdout",
          "text": [
            "1.4142135623730951\n",
            "4\n",
            "8.0\n"
          ]
        }
      ]
    },
    {
      "cell_type": "markdown",
      "source": [
        "A Python library is a collection of related modules. It contains bundles of code that can be used repeatedly in different programs. It makes Python Programming simpler and convenient for the programmer."
      ],
      "metadata": {
        "id": "eLvKmtqAsj9E"
      }
    },
    {
      "cell_type": "markdown",
      "source": [
        "Python includes libraries. Python Libraries are a set of useful functions that eliminate the need for writing codes from scratch. \n",
        "Some useful libraries are:\n",
        "\n",
        "\n",
        "**A. Data Cleaning and Data Manipulation**\n",
        "\n",
        "1.   Pandas\n",
        "2.   Numpy\n",
        "3.   Spacy\n",
        "4.   SciPy\n",
        "\n",
        "\n",
        "**B. Data Gathering**\n",
        "\n",
        "1. Beautiful Soap\n",
        "2. Scrapy\n",
        "3. Selenium\n",
        "\n",
        "\n",
        "**C. Data Visualisation**\n",
        "\n",
        "1. Matplotlib\n",
        "2. Seaborn\n",
        "3. Bokeh\n",
        "4. Plotly\n",
        "\n",
        "\n",
        "**D. Data Modelling**\n",
        "\n",
        "1. Scikit-Learn\n",
        "2. PyTorch\n",
        "3. TensorFlow\n",
        "4. Theano\n",
        "\n",
        "**E. Image Processing**\n",
        "\n",
        "1. Scikit-Image\n",
        "2. Pillow\n",
        "3. OpenCV\n",
        "\n",
        "\n",
        "\n",
        "\n",
        "\n",
        "\n",
        "\n"
      ],
      "metadata": {
        "id": "DAFw6xkw_Gyk"
      }
    },
    {
      "cell_type": "markdown",
      "source": [
        "\n",
        "\n",
        "```\n",
        "Now, Lets practice\n",
        "```\n",
        " \n"
      ],
      "metadata": {
        "id": "HAFLJbLIs0wU"
      }
    },
    {
      "cell_type": "markdown",
      "source": [
        "\n",
        "\n",
        "##**Example: Simple Calculator in Python**\n",
        "\n"
      ],
      "metadata": {
        "id": "fOSANw0As8Fn"
      }
    },
    {
      "cell_type": "code",
      "source": [
        "\n",
        "# This function adds two numbers\n",
        "def add(x, y):\n",
        "    return x + y\n",
        "\n",
        "# This function subtracts two numbers\n",
        "def subtract(x, y):\n",
        "    return x - y\n",
        "\n",
        "# This function multiplies two numbers\n",
        "def multiply(x, y):\n",
        "    return x * y\n",
        "\n",
        "# This function divides two numbers\n",
        "def divide(x, y):\n",
        "    return x / y\n",
        "\n",
        "print(\"Select operation.\")\n",
        "print(\"1.Add\")\n",
        "print(\"2.Subtract\")\n",
        "print(\"3.Multiply\")\n",
        "print(\"4.Divide\")\n",
        "\n",
        "while True:\n",
        "    # take input from the user\n",
        "    choice = input(\"Enter choice(1/2/3/4): \")\n",
        "\n",
        "    # check if choice is one of the four options\n",
        "    if choice in ('1', '2', '3', '4'):\n",
        "        num1 = float(input(\"Enter first number: \"))\n",
        "        num2 = float(input(\"Enter second number: \"))\n",
        "\n",
        "        if choice == '1':\n",
        "            print(num1, \"+\", num2, \"=\", add(num1, num2))\n",
        "\n",
        "        elif choice == '2':\n",
        "            print(num1, \"-\", num2, \"=\", subtract(num1, num2))\n",
        "\n",
        "        elif choice == '3':\n",
        "            print(num1, \"*\", num2, \"=\", multiply(num1, num2))\n",
        "\n",
        "        elif choice == '4':\n",
        "            print(num1, \"/\", num2, \"=\", divide(num1, num2))\n",
        "        \n",
        "        # check if user wants another calculation\n",
        "        # break the while loop if answer is no\n",
        "        next_calculation = input(\"Let's do next calculation? (yes/no): \")\n",
        "        if next_calculation == \"no\":\n",
        "          break\n",
        "    \n",
        "    else:\n",
        "        print(\"Invalid Input\")"
      ],
      "metadata": {
        "colab": {
          "base_uri": "https://localhost:8080/",
          "height": 623
        },
        "id": "lRtJGlGgs7dt",
        "outputId": "3978873c-1b4f-418f-dbf1-b163bb6eccfa"
      },
      "execution_count": null,
      "outputs": [
        {
          "output_type": "stream",
          "name": "stdout",
          "text": [
            "Select operation.\n",
            "1.Add\n",
            "2.Subtract\n",
            "3.Multiply\n",
            "4.Divide\n"
          ]
        },
        {
          "output_type": "error",
          "ename": "KeyboardInterrupt",
          "evalue": "ignored",
          "traceback": [
            "\u001b[0;31m---------------------------------------------------------------------------\u001b[0m",
            "\u001b[0;31mKeyboardInterrupt\u001b[0m                         Traceback (most recent call last)",
            "\u001b[0;32m/usr/local/lib/python3.7/dist-packages/ipykernel/kernelbase.py\u001b[0m in \u001b[0;36m_input_request\u001b[0;34m(self, prompt, ident, parent, password)\u001b[0m\n\u001b[1;32m    728\u001b[0m             \u001b[0;32mtry\u001b[0m\u001b[0;34m:\u001b[0m\u001b[0;34m\u001b[0m\u001b[0;34m\u001b[0m\u001b[0m\n\u001b[0;32m--> 729\u001b[0;31m                 \u001b[0mident\u001b[0m\u001b[0;34m,\u001b[0m \u001b[0mreply\u001b[0m \u001b[0;34m=\u001b[0m \u001b[0mself\u001b[0m\u001b[0;34m.\u001b[0m\u001b[0msession\u001b[0m\u001b[0;34m.\u001b[0m\u001b[0mrecv\u001b[0m\u001b[0;34m(\u001b[0m\u001b[0mself\u001b[0m\u001b[0;34m.\u001b[0m\u001b[0mstdin_socket\u001b[0m\u001b[0;34m,\u001b[0m \u001b[0;36m0\u001b[0m\u001b[0;34m)\u001b[0m\u001b[0;34m\u001b[0m\u001b[0;34m\u001b[0m\u001b[0m\n\u001b[0m\u001b[1;32m    730\u001b[0m             \u001b[0;32mexcept\u001b[0m \u001b[0mException\u001b[0m\u001b[0;34m:\u001b[0m\u001b[0;34m\u001b[0m\u001b[0;34m\u001b[0m\u001b[0m\n",
            "\u001b[0;32m/usr/local/lib/python3.7/dist-packages/jupyter_client/session.py\u001b[0m in \u001b[0;36mrecv\u001b[0;34m(self, socket, mode, content, copy)\u001b[0m\n\u001b[1;32m    802\u001b[0m         \u001b[0;32mtry\u001b[0m\u001b[0;34m:\u001b[0m\u001b[0;34m\u001b[0m\u001b[0;34m\u001b[0m\u001b[0m\n\u001b[0;32m--> 803\u001b[0;31m             \u001b[0mmsg_list\u001b[0m \u001b[0;34m=\u001b[0m \u001b[0msocket\u001b[0m\u001b[0;34m.\u001b[0m\u001b[0mrecv_multipart\u001b[0m\u001b[0;34m(\u001b[0m\u001b[0mmode\u001b[0m\u001b[0;34m,\u001b[0m \u001b[0mcopy\u001b[0m\u001b[0;34m=\u001b[0m\u001b[0mcopy\u001b[0m\u001b[0;34m)\u001b[0m\u001b[0;34m\u001b[0m\u001b[0;34m\u001b[0m\u001b[0m\n\u001b[0m\u001b[1;32m    804\u001b[0m         \u001b[0;32mexcept\u001b[0m \u001b[0mzmq\u001b[0m\u001b[0;34m.\u001b[0m\u001b[0mZMQError\u001b[0m \u001b[0;32mas\u001b[0m \u001b[0me\u001b[0m\u001b[0;34m:\u001b[0m\u001b[0;34m\u001b[0m\u001b[0;34m\u001b[0m\u001b[0m\n",
            "\u001b[0;32m/usr/local/lib/python3.7/dist-packages/zmq/sugar/socket.py\u001b[0m in \u001b[0;36mrecv_multipart\u001b[0;34m(self, flags, copy, track)\u001b[0m\n\u001b[1;32m    624\u001b[0m         \"\"\"\n\u001b[0;32m--> 625\u001b[0;31m         \u001b[0mparts\u001b[0m \u001b[0;34m=\u001b[0m \u001b[0;34m[\u001b[0m\u001b[0mself\u001b[0m\u001b[0;34m.\u001b[0m\u001b[0mrecv\u001b[0m\u001b[0;34m(\u001b[0m\u001b[0mflags\u001b[0m\u001b[0;34m,\u001b[0m \u001b[0mcopy\u001b[0m\u001b[0;34m=\u001b[0m\u001b[0mcopy\u001b[0m\u001b[0;34m,\u001b[0m \u001b[0mtrack\u001b[0m\u001b[0;34m=\u001b[0m\u001b[0mtrack\u001b[0m\u001b[0;34m)\u001b[0m\u001b[0;34m]\u001b[0m\u001b[0;34m\u001b[0m\u001b[0;34m\u001b[0m\u001b[0m\n\u001b[0m\u001b[1;32m    626\u001b[0m         \u001b[0;31m# have first part already, only loop while more to receive\u001b[0m\u001b[0;34m\u001b[0m\u001b[0;34m\u001b[0m\u001b[0;34m\u001b[0m\u001b[0m\n",
            "\u001b[0;32mzmq/backend/cython/socket.pyx\u001b[0m in \u001b[0;36mzmq.backend.cython.socket.Socket.recv\u001b[0;34m()\u001b[0m\n",
            "\u001b[0;32mzmq/backend/cython/socket.pyx\u001b[0m in \u001b[0;36mzmq.backend.cython.socket.Socket.recv\u001b[0;34m()\u001b[0m\n",
            "\u001b[0;32mzmq/backend/cython/socket.pyx\u001b[0m in \u001b[0;36mzmq.backend.cython.socket._recv_copy\u001b[0;34m()\u001b[0m\n",
            "\u001b[0;32m/usr/local/lib/python3.7/dist-packages/zmq/backend/cython/checkrc.pxd\u001b[0m in \u001b[0;36mzmq.backend.cython.checkrc._check_rc\u001b[0;34m()\u001b[0m\n",
            "\u001b[0;31mKeyboardInterrupt\u001b[0m: ",
            "\nDuring handling of the above exception, another exception occurred:\n",
            "\u001b[0;31mKeyboardInterrupt\u001b[0m                         Traceback (most recent call last)",
            "\u001b[0;32m<ipython-input-69-76b410956891>\u001b[0m in \u001b[0;36m<module>\u001b[0;34m()\u001b[0m\n\u001b[1;32m     24\u001b[0m \u001b[0;32mwhile\u001b[0m \u001b[0;32mTrue\u001b[0m\u001b[0;34m:\u001b[0m\u001b[0;34m\u001b[0m\u001b[0;34m\u001b[0m\u001b[0m\n\u001b[1;32m     25\u001b[0m     \u001b[0;31m# take input from the user\u001b[0m\u001b[0;34m\u001b[0m\u001b[0;34m\u001b[0m\u001b[0;34m\u001b[0m\u001b[0m\n\u001b[0;32m---> 26\u001b[0;31m     \u001b[0mchoice\u001b[0m \u001b[0;34m=\u001b[0m \u001b[0minput\u001b[0m\u001b[0;34m(\u001b[0m\u001b[0;34m\"Enter choice(1/2/3/4): \"\u001b[0m\u001b[0;34m)\u001b[0m\u001b[0;34m\u001b[0m\u001b[0;34m\u001b[0m\u001b[0m\n\u001b[0m\u001b[1;32m     27\u001b[0m \u001b[0;34m\u001b[0m\u001b[0m\n\u001b[1;32m     28\u001b[0m     \u001b[0;31m# check if choice is one of the four options\u001b[0m\u001b[0;34m\u001b[0m\u001b[0;34m\u001b[0m\u001b[0;34m\u001b[0m\u001b[0m\n",
            "\u001b[0;32m/usr/local/lib/python3.7/dist-packages/ipykernel/kernelbase.py\u001b[0m in \u001b[0;36mraw_input\u001b[0;34m(self, prompt)\u001b[0m\n\u001b[1;32m    702\u001b[0m             \u001b[0mself\u001b[0m\u001b[0;34m.\u001b[0m\u001b[0m_parent_ident\u001b[0m\u001b[0;34m,\u001b[0m\u001b[0;34m\u001b[0m\u001b[0;34m\u001b[0m\u001b[0m\n\u001b[1;32m    703\u001b[0m             \u001b[0mself\u001b[0m\u001b[0;34m.\u001b[0m\u001b[0m_parent_header\u001b[0m\u001b[0;34m,\u001b[0m\u001b[0;34m\u001b[0m\u001b[0;34m\u001b[0m\u001b[0m\n\u001b[0;32m--> 704\u001b[0;31m             \u001b[0mpassword\u001b[0m\u001b[0;34m=\u001b[0m\u001b[0;32mFalse\u001b[0m\u001b[0;34m,\u001b[0m\u001b[0;34m\u001b[0m\u001b[0;34m\u001b[0m\u001b[0m\n\u001b[0m\u001b[1;32m    705\u001b[0m         )\n\u001b[1;32m    706\u001b[0m \u001b[0;34m\u001b[0m\u001b[0m\n",
            "\u001b[0;32m/usr/local/lib/python3.7/dist-packages/ipykernel/kernelbase.py\u001b[0m in \u001b[0;36m_input_request\u001b[0;34m(self, prompt, ident, parent, password)\u001b[0m\n\u001b[1;32m    732\u001b[0m             \u001b[0;32mexcept\u001b[0m \u001b[0mKeyboardInterrupt\u001b[0m\u001b[0;34m:\u001b[0m\u001b[0;34m\u001b[0m\u001b[0;34m\u001b[0m\u001b[0m\n\u001b[1;32m    733\u001b[0m                 \u001b[0;31m# re-raise KeyboardInterrupt, to truncate traceback\u001b[0m\u001b[0;34m\u001b[0m\u001b[0;34m\u001b[0m\u001b[0;34m\u001b[0m\u001b[0m\n\u001b[0;32m--> 734\u001b[0;31m                 \u001b[0;32mraise\u001b[0m \u001b[0mKeyboardInterrupt\u001b[0m\u001b[0;34m\u001b[0m\u001b[0;34m\u001b[0m\u001b[0m\n\u001b[0m\u001b[1;32m    735\u001b[0m             \u001b[0;32melse\u001b[0m\u001b[0;34m:\u001b[0m\u001b[0;34m\u001b[0m\u001b[0;34m\u001b[0m\u001b[0m\n\u001b[1;32m    736\u001b[0m                 \u001b[0;32mbreak\u001b[0m\u001b[0;34m\u001b[0m\u001b[0;34m\u001b[0m\u001b[0m\n",
            "\u001b[0;31mKeyboardInterrupt\u001b[0m: "
          ]
        }
      ]
    }
  ]
}